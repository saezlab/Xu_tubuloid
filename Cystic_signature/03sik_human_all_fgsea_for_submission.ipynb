{
 "cells": [
  {
   "cell_type": "markdown",
   "id": "6ab7ace7",
   "metadata": {},
   "source": [
    "## Pathways Human - MAST + fgsea"
   ]
  },
  {
   "cell_type": "code",
   "execution_count": 1,
   "id": "2a966556",
   "metadata": {},
   "outputs": [],
   "source": [
    "import scanpy as sc\n",
    "import numpy as np\n",
    "import pandas as pd\n",
    "import os, sys, string\n",
    "\n",
    "sc.set_figure_params(vector_friendly=False, fontsize=18)\n",
    "\n",
    "import anndata\n",
    "from scipy.io import mmwrite\n",
    "\n",
    "import matplotlib.pyplot as plt\n",
    "from collections import Counter\n",
    "\n",
    "from typing import Tuple, Union, List, Dict, Callable\n",
    "import os\n",
    "import gzip\n",
    "import shutil\n",
    "import inspect\n",
    "import h5py\n",
    "import matplotlib\n",
    "\n",
    "%matplotlib inline"
   ]
  },
  {
   "cell_type": "code",
   "execution_count": 2,
   "id": "4da9265c",
   "metadata": {},
   "outputs": [],
   "source": [
    "matplotlib.rcParams['pdf.fonttype'] = 42"
   ]
  },
  {
   "cell_type": "code",
   "execution_count": 3,
   "id": "fde8eba5",
   "metadata": {},
   "outputs": [],
   "source": [
    "%load_ext rpy2.ipython"
   ]
  },
  {
   "cell_type": "code",
   "execution_count": 6,
   "id": "23e69f09",
   "metadata": {},
   "outputs": [],
   "source": [
    "%%R\n",
    "if (!require(\"BiocManager\", quietly = TRUE))\n",
    "    install.packages(\"BiocManager\")\n",
    "\n",
    "#BiocManager::install(\"fgsea\")"
   ]
  },
  {
   "cell_type": "code",
   "execution_count": 7,
   "id": "a2dc40c6",
   "metadata": {
    "scrolled": false
   },
   "outputs": [
    {
     "name": "stderr",
     "output_type": "stream",
     "text": [
      "2022-04-13 14:33:17,111 [41334] WARNING  rpy2.rinterface_lib.callbacks:123: [JupyterRequire] R[write to console]: ── \u001b[1mAttaching packages\u001b[22m ────────────────────────────────────────────────────────────────────────────────────────────────────────────────────────────────────────────────────────────────────────────────────────────────────────────── tidyverse 1.3.1 ──\n",
      "\n",
      "2022-04-13 14:33:17,117 [41334] WARNING  rpy2.rinterface_lib.callbacks:123: [JupyterRequire] R[write to console]: \u001b[32m✔\u001b[39m \u001b[34mggplot2\u001b[39m 3.3.5     \u001b[32m✔\u001b[39m \u001b[34mpurrr  \u001b[39m 0.3.4\n",
      "\u001b[32m✔\u001b[39m \u001b[34mtibble \u001b[39m 3.1.6     \u001b[32m✔\u001b[39m \u001b[34mdplyr  \u001b[39m 1.0.8\n",
      "\u001b[32m✔\u001b[39m \u001b[34mtidyr  \u001b[39m 1.2.0     \u001b[32m✔\u001b[39m \u001b[34mstringr\u001b[39m 1.4.0\n",
      "\u001b[32m✔\u001b[39m \u001b[34mreadr  \u001b[39m 2.1.2     \u001b[32m✔\u001b[39m \u001b[34mforcats\u001b[39m 0.5.1\n",
      "\n",
      "2022-04-13 14:33:17,348 [41334] WARNING  rpy2.rinterface_lib.callbacks:123: [JupyterRequire] R[write to console]: ── \u001b[1mConflicts\u001b[22m ───────────────────────────────────────────────────────────────────────────────────────────────────────────────────────────────────────────────────────────────────────────────────────────────────────────────── tidyverse_conflicts() ──\n",
      "\u001b[31m✖\u001b[39m \u001b[34mdplyr\u001b[39m::\u001b[32mfilter()\u001b[39m masks \u001b[34mstats\u001b[39m::filter()\n",
      "\u001b[31m✖\u001b[39m \u001b[34mdplyr\u001b[39m::\u001b[32mlag()\u001b[39m    masks \u001b[34mstats\u001b[39m::lag()\n",
      "\n"
     ]
    }
   ],
   "source": [
    "%%R\n",
    "library(\"fgsea\")\n",
    "library(\"tidyverse\")"
   ]
  },
  {
   "cell_type": "code",
   "execution_count": 8,
   "id": "66a1ac36",
   "metadata": {},
   "outputs": [],
   "source": [
    "home      = \"/Users/noamibrahimhayat/Documents/Aachen/projects/kidney_organoids/\"\n",
    "datahome  = home+ \"data/\"\n",
    "cystichome= datahome+\"Cystic_signature/\"\n",
    "resulthome= home+ \"results/\"\n",
    "dehome    = resulthome+\"MASTde_3xADPKD/\"\n",
    "\n",
    "gseahome  = \"/Users/noamibrahimhayat/Documents/Aachen/projects/gsea/\""
   ]
  },
  {
   "cell_type": "code",
   "execution_count": 9,
   "id": "93786c0c",
   "metadata": {},
   "outputs": [],
   "source": [
    "## read cluster annotation\n",
    "map_df = pd.read_table(resulthome+\"human_adpkd_namemap.csv\", sep=\",\")"
   ]
  },
  {
   "cell_type": "code",
   "execution_count": 10,
   "id": "60e97595",
   "metadata": {},
   "outputs": [
    {
     "data": {
      "text/html": [
       "<div>\n",
       "<style scoped>\n",
       "    .dataframe tbody tr th:only-of-type {\n",
       "        vertical-align: middle;\n",
       "    }\n",
       "\n",
       "    .dataframe tbody tr th {\n",
       "        vertical-align: top;\n",
       "    }\n",
       "\n",
       "    .dataframe thead th {\n",
       "        text-align: right;\n",
       "    }\n",
       "</style>\n",
       "<table border=\"1\" class=\"dataframe\">\n",
       "  <thead>\n",
       "    <tr style=\"text-align: right;\">\n",
       "      <th></th>\n",
       "      <th>Unnamed: 0</th>\n",
       "      <th>cluster</th>\n",
       "      <th>cluster_name</th>\n",
       "    </tr>\n",
       "  </thead>\n",
       "  <tbody>\n",
       "    <tr>\n",
       "      <th>0</th>\n",
       "      <td>AAACCCAGTCACTGAT_1</td>\n",
       "      <td>cluster3</td>\n",
       "      <td>3: TAL_2</td>\n",
       "    </tr>\n",
       "    <tr>\n",
       "      <th>1</th>\n",
       "      <td>AAACCCAGTCTGTAAC_1</td>\n",
       "      <td>cluster5</td>\n",
       "      <td>5: EC</td>\n",
       "    </tr>\n",
       "    <tr>\n",
       "      <th>2</th>\n",
       "      <td>AAACGAAAGCGAGTCA_1</td>\n",
       "      <td>cluster2</td>\n",
       "      <td>2: TAL_1</td>\n",
       "    </tr>\n",
       "    <tr>\n",
       "      <th>3</th>\n",
       "      <td>AAACGAACAGACACAG_1</td>\n",
       "      <td>cluster0</td>\n",
       "      <td>0: PC-CD/CNT</td>\n",
       "    </tr>\n",
       "    <tr>\n",
       "      <th>4</th>\n",
       "      <td>AAACGAACAGGCTCTG_1</td>\n",
       "      <td>cluster13</td>\n",
       "      <td>13: B-Cell</td>\n",
       "    </tr>\n",
       "  </tbody>\n",
       "</table>\n",
       "</div>"
      ],
      "text/plain": [
       "           Unnamed: 0    cluster  cluster_name\n",
       "0  AAACCCAGTCACTGAT_1   cluster3      3: TAL_2\n",
       "1  AAACCCAGTCTGTAAC_1   cluster5         5: EC\n",
       "2  AAACGAAAGCGAGTCA_1   cluster2      2: TAL_1\n",
       "3  AAACGAACAGACACAG_1   cluster0  0: PC-CD/CNT\n",
       "4  AAACGAACAGGCTCTG_1  cluster13    13: B-Cell"
      ]
     },
     "execution_count": 10,
     "metadata": {},
     "output_type": "execute_result"
    }
   ],
   "source": [
    "map_df.head()"
   ]
  },
  {
   "cell_type": "code",
   "execution_count": 11,
   "id": "a04181cd",
   "metadata": {},
   "outputs": [
    {
     "data": {
      "text/plain": [
       "0"
      ]
     },
     "execution_count": 11,
     "metadata": {},
     "output_type": "execute_result"
    }
   ],
   "source": [
    "## get DE genes\n",
    "os.system(\"ls \" + dehome+\"*.csv > \" + resulthome+\"mast.txt\")"
   ]
  },
  {
   "cell_type": "code",
   "execution_count": 14,
   "id": "94716cd2",
   "metadata": {},
   "outputs": [
    {
     "name": "stdout",
     "output_type": "stream",
     "text": [
      "MASTde_3xADPKD_B-Cell\n",
      "MASTde_3xADPKD_DCT_1\n",
      "MASTde_3xADPKD_DCT_2\n",
      "MASTde_3xADPKD_EC\n",
      "MASTde_3xADPKD_IC-A\n",
      "MASTde_3xADPKD_IC-B\n",
      "MASTde_3xADPKD_Mac\n",
      "MASTde_3xADPKD_Mast-Cell\n",
      "MASTde_3xADPKD_PC-CD.CNT\n",
      "MASTde_3xADPKD_PT_1\n",
      "MASTde_3xADPKD_PT_2\n",
      "MASTde_3xADPKD_PT_3.PEC\n",
      "MASTde_3xADPKD_PT_4\n",
      "MASTde_3xADPKD_Pod\n",
      "MASTde_3xADPKD_T-Cell\n",
      "MASTde_3xADPKD_TAL_1\n",
      "MASTde_3xADPKD_TAL_2\n",
      "MASTde_3xADPKD_Unk_1\n",
      "MASTde_3xADPKD_Unk_2\n",
      "MASTde_3xADPKD_vSMC.Fib\n"
     ]
    }
   ],
   "source": [
    "filenames = pd.read_table(resulthome + \"mast.txt\", header=None)\n",
    "\n",
    "myfiles = filenames[0].values.tolist()\n",
    "\n",
    "frames  = []\n",
    "\n",
    "for filename in myfiles:\n",
    "    file_id = filename.split(\"/\")[-1].split(\".csv\")[0]\n",
    "    print(file_id)\n",
    "\n",
    "    tmp_df = pd.read_table(filename, sep=\",\")\n",
    "    tmp_df[\"file_id\"] = file_id\n",
    "    frames.append(tmp_df)"
   ]
  },
  {
   "cell_type": "code",
   "execution_count": 15,
   "id": "ad7f9765",
   "metadata": {},
   "outputs": [],
   "source": [
    "de_df = pd.concat(frames)"
   ]
  },
  {
   "cell_type": "code",
   "execution_count": 16,
   "id": "836c890d",
   "metadata": {},
   "outputs": [],
   "source": [
    "de_df = de_df[de_df.X.isna()]"
   ]
  },
  {
   "cell_type": "code",
   "execution_count": 18,
   "id": "a2e923f4",
   "metadata": {},
   "outputs": [
    {
     "data": {
      "text/html": [
       "<div>\n",
       "<style scoped>\n",
       "    .dataframe tbody tr th:only-of-type {\n",
       "        vertical-align: middle;\n",
       "    }\n",
       "\n",
       "    .dataframe tbody tr th {\n",
       "        vertical-align: top;\n",
       "    }\n",
       "\n",
       "    .dataframe thead th {\n",
       "        text-align: right;\n",
       "    }\n",
       "</style>\n",
       "<table border=\"1\" class=\"dataframe\">\n",
       "  <thead>\n",
       "    <tr style=\"text-align: right;\">\n",
       "      <th></th>\n",
       "      <th>Unnamed: 0</th>\n",
       "      <th>p_val</th>\n",
       "      <th>avg_logFC</th>\n",
       "      <th>pct.1</th>\n",
       "      <th>pct.2</th>\n",
       "      <th>p_val_adj</th>\n",
       "      <th>file_id</th>\n",
       "      <th>X</th>\n",
       "    </tr>\n",
       "  </thead>\n",
       "  <tbody>\n",
       "    <tr>\n",
       "      <th>0</th>\n",
       "      <td>LRP2</td>\n",
       "      <td>1.460593e-65</td>\n",
       "      <td>-2.349018</td>\n",
       "      <td>0.007</td>\n",
       "      <td>0.654</td>\n",
       "      <td>3.579037e-61</td>\n",
       "      <td>MASTde_3xADPKD_B-Cell</td>\n",
       "      <td>NaN</td>\n",
       "    </tr>\n",
       "    <tr>\n",
       "      <th>1</th>\n",
       "      <td>SLC17A1</td>\n",
       "      <td>2.582939e-43</td>\n",
       "      <td>-1.741585</td>\n",
       "      <td>0.002</td>\n",
       "      <td>0.385</td>\n",
       "      <td>6.329233e-39</td>\n",
       "      <td>MASTde_3xADPKD_B-Cell</td>\n",
       "      <td>NaN</td>\n",
       "    </tr>\n",
       "  </tbody>\n",
       "</table>\n",
       "</div>"
      ],
      "text/plain": [
       "  Unnamed: 0         p_val  avg_logFC  pct.1  pct.2     p_val_adj  \\\n",
       "0       LRP2  1.460593e-65  -2.349018  0.007  0.654  3.579037e-61   \n",
       "1    SLC17A1  2.582939e-43  -1.741585  0.002  0.385  6.329233e-39   \n",
       "\n",
       "                 file_id    X  \n",
       "0  MASTde_3xADPKD_B-Cell  NaN  \n",
       "1  MASTde_3xADPKD_B-Cell  NaN  "
      ]
     },
     "execution_count": 18,
     "metadata": {},
     "output_type": "execute_result"
    }
   ],
   "source": [
    "de_df.head(2)"
   ]
  },
  {
   "cell_type": "code",
   "execution_count": 19,
   "id": "6f1eac76",
   "metadata": {},
   "outputs": [],
   "source": [
    "de_df.rename(columns={'Unnamed: 0':'gene', 'file_id':'cluster_name'}, inplace=True)"
   ]
  },
  {
   "cell_type": "code",
   "execution_count": 20,
   "id": "8f8a1690",
   "metadata": {},
   "outputs": [],
   "source": [
    "de_df.drop([\"X\"],axis=1, inplace=True)"
   ]
  },
  {
   "cell_type": "code",
   "execution_count": 21,
   "id": "cb25a971",
   "metadata": {},
   "outputs": [
    {
     "data": {
      "text/plain": [
       "gene             object\n",
       "p_val           float64\n",
       "avg_logFC       float64\n",
       "pct.1           float64\n",
       "pct.2           float64\n",
       "p_val_adj       float64\n",
       "cluster_name     object\n",
       "dtype: object"
      ]
     },
     "execution_count": 21,
     "metadata": {},
     "output_type": "execute_result"
    }
   ],
   "source": [
    "de_df.dtypes"
   ]
  },
  {
   "cell_type": "code",
   "execution_count": 22,
   "id": "45ff3e59",
   "metadata": {},
   "outputs": [],
   "source": [
    "#de_df.sort_values(by=[\"cluster_name\", \"avg_logFC\"], ascending=[True, False]).\\\n",
    "#to_excel(resulthome+\"Human_Kidney_DE_ADKPD_vs_Control.xlsx\")"
   ]
  },
  {
   "cell_type": "code",
   "execution_count": 23,
   "id": "b6cc11e9",
   "metadata": {},
   "outputs": [],
   "source": [
    "de_count_df = de_df[[\"gene\", \"cluster_name\"]].groupby(\"cluster_name\")[\"gene\"].count().reset_index()"
   ]
  },
  {
   "cell_type": "code",
   "execution_count": 25,
   "id": "143f05f3",
   "metadata": {},
   "outputs": [
    {
     "data": {
      "text/plain": [
       "<Figure size 216x144 with 0 Axes>"
      ]
     },
     "metadata": {},
     "output_type": "display_data"
    },
    {
     "data": {
      "image/png": "[encoded data removed]",
      "text/plain": [
       "<Figure size 432x288 with 1 Axes>"
      ]
     },
     "metadata": {
      "needs_background": "light"
     },
     "output_type": "display_data"
    }
   ],
   "source": [
    "if 1:\n",
    "    f = plt.figure(figsize = (3,2))\n",
    "    ax = de_count_df.plot.bar(x='cluster_name', y='gene', rot=90)\n",
    "    ax.set_xticklabels(ax.get_xticklabels(),rotation=90)\n",
    "    #ax.set_ylim(0,.4)\n",
    "    ax.set_title('DE_gene_count')\n",
    "    ax.set_xticklabels(ax.get_xticklabels(),rotation = 90, size=10)\n",
    "    #plt.savefig('Kidney_ADPKD_Human3X_MAST_DE_Counts_all.pdf', bbox_inches='tight')"
   ]
  },
  {
   "cell_type": "code",
   "execution_count": 26,
   "id": "984bbe53",
   "metadata": {},
   "outputs": [],
   "source": [
    "de_sig_df   = de_df[de_df[\"p_val_adj\"]<0.01]\n",
    "de_count_df = de_sig_df[[\"gene\", \"cluster_name\"]].groupby(\"cluster_name\")[\"gene\"].count().reset_index()"
   ]
  },
  {
   "cell_type": "code",
   "execution_count": 27,
   "id": "f04e0c44",
   "metadata": {},
   "outputs": [
    {
     "data": {
      "text/plain": [
       "<Figure size 216x144 with 0 Axes>"
      ]
     },
     "metadata": {},
     "output_type": "display_data"
    },
    {
     "data": {
      "image/png": "[encoded data removed]",
      "text/plain": [
       "<Figure size 432x288 with 1 Axes>"
      ]
     },
     "metadata": {
      "needs_background": "light"
     },
     "output_type": "display_data"
    }
   ],
   "source": [
    "if 1:\n",
    "    f = plt.figure(figsize = (3,2))\n",
    "    ax = de_count_df.plot.bar(x='cluster_name', y='gene', rot=90)\n",
    "    ax.set_xticklabels(ax.get_xticklabels(),rotation=90)\n",
    "    #ax.set_ylim(0,.4)\n",
    "    ax.set_title('DE_gene_count')\n",
    "    ax.set_xticklabels(ax.get_xticklabels(),rotation = 90, size=10)\n",
    "    plt.savefig('Kidney_ADPKD_Human3X_MAST_DE_Counts_FDR.pdf', bbox_inches='tight')"
   ]
  },
  {
   "cell_type": "code",
   "execution_count": 28,
   "id": "d981101c",
   "metadata": {},
   "outputs": [],
   "source": [
    "myclusters = de_df[\"cluster_name\"].unique().tolist()"
   ]
  },
  {
   "cell_type": "code",
   "execution_count": 29,
   "id": "753bf9f9",
   "metadata": {},
   "outputs": [
    {
     "data": {
      "text/plain": [
       "0"
      ]
     },
     "execution_count": 29,
     "metadata": {},
     "output_type": "execute_result"
    }
   ],
   "source": [
    "os.system(\"rm \" + resulthome + \"human_adpkd_dataset_logFC_*.rnk\")"
   ]
  },
  {
   "cell_type": "code",
   "execution_count": 30,
   "id": "4c94c423",
   "metadata": {},
   "outputs": [
    {
     "name": "stdout",
     "output_type": "stream",
     "text": [
      "MASTde_3xADPKD_B-Cell\n",
      "MASTde_3xADPKD_DCT_1\n",
      "MASTde_3xADPKD_DCT_2\n",
      "MASTde_3xADPKD_EC\n",
      "MASTde_3xADPKD_IC-A\n",
      "MASTde_3xADPKD_IC-B\n",
      "MASTde_3xADPKD_Mac\n",
      "MASTde_3xADPKD_Mast-Cell\n",
      "MASTde_3xADPKD_PC-CD.CNT\n",
      "MASTde_3xADPKD_PT_1\n",
      "MASTde_3xADPKD_PT_2\n",
      "MASTde_3xADPKD_PT_3.PEC\n",
      "MASTde_3xADPKD_PT_4\n",
      "MASTde_3xADPKD_Pod\n",
      "MASTde_3xADPKD_T-Cell\n",
      "MASTde_3xADPKD_TAL_1\n",
      "MASTde_3xADPKD_TAL_2\n",
      "MASTde_3xADPKD_vSMC.Fib\n"
     ]
    }
   ],
   "source": [
    "for this_cluste in myclusters:\n",
    "    de_speific = de_df[de_df[\"cluster_name\"]==this_cluste]\n",
    "\n",
    "    this_cluste = this_cluste.replace(' ', '')\n",
    "    this_cluste = this_cluste.replace('/', '_')\n",
    "    this_cluste = this_cluste.replace(':', '_')\n",
    "\n",
    "    if this_cluste == \"MASTde_3xADPKD_Unk_1\": continue\n",
    "    print(this_cluste)\n",
    "\n",
    "    # create a rnk file\n",
    "    rnk = pd.DataFrame({'gene': de_speific['gene'].values,\n",
    "                        'logFC': de_speific['avg_logFC'].values})\n",
    "\n",
    "    rnk.sort_values(by=\"logFC\", ascending=False, inplace=True)\n",
    "\n",
    "    rnk.to_csv(resulthome + 'human_adpkd_dataset_logFC_'+this_cluste+'_de.rnk', \n",
    "               sep='\\t', index=False, header=['# gene', 'logFC'])"
   ]
  },
  {
   "cell_type": "code",
   "execution_count": 31,
   "id": "8a22b4a3",
   "metadata": {},
   "outputs": [
    {
     "data": {
      "text/plain": [
       "0"
      ]
     },
     "execution_count": 31,
     "metadata": {},
     "output_type": "execute_result"
    }
   ],
   "source": [
    "os.system(\"ls \" + resulthome + \"human_adpkd_dataset_logFC_*.rnk > \"+resulthome + \"tmp.txt\")"
   ]
  },
  {
   "cell_type": "code",
   "execution_count": 32,
   "id": "3541c5af",
   "metadata": {},
   "outputs": [
    {
     "data": {
      "text/plain": [
       "256"
      ]
     },
     "execution_count": 32,
     "metadata": {},
     "output_type": "execute_result"
    }
   ],
   "source": [
    "os.system(\"rm \" + resulthome + \"human_adpkd_dataset_logFC_*gsea\")"
   ]
  },
  {
   "cell_type": "code",
   "execution_count": 33,
   "id": "38adefc7",
   "metadata": {},
   "outputs": [
    {
     "name": "stdout",
     "output_type": "stream",
     "text": [
      "human_adpkd_dataset_logFC_MASTde_3xADPKD_B-Cell_de\n",
      "human_adpkd_dataset_logFC_MASTde_3xADPKD_DCT_1_de\n",
      "human_adpkd_dataset_logFC_MASTde_3xADPKD_DCT_2_de\n",
      "human_adpkd_dataset_logFC_MASTde_3xADPKD_EC_de\n",
      "human_adpkd_dataset_logFC_MASTde_3xADPKD_IC-A_de\n",
      "human_adpkd_dataset_logFC_MASTde_3xADPKD_IC-B_de\n",
      "human_adpkd_dataset_logFC_MASTde_3xADPKD_Mac_de\n",
      "human_adpkd_dataset_logFC_MASTde_3xADPKD_Mast-Cell_de\n",
      "human_adpkd_dataset_logFC_MASTde_3xADPKD_PC-CD.CNT_de\n",
      "human_adpkd_dataset_logFC_MASTde_3xADPKD_PT_1_de\n",
      "human_adpkd_dataset_logFC_MASTde_3xADPKD_PT_2_de\n",
      "human_adpkd_dataset_logFC_MASTde_3xADPKD_PT_3.PEC_de\n",
      "human_adpkd_dataset_logFC_MASTde_3xADPKD_PT_4_de\n",
      "human_adpkd_dataset_logFC_MASTde_3xADPKD_Pod_de\n",
      "human_adpkd_dataset_logFC_MASTde_3xADPKD_T-Cell_de\n",
      "human_adpkd_dataset_logFC_MASTde_3xADPKD_TAL_1_de\n",
      "human_adpkd_dataset_logFC_MASTde_3xADPKD_TAL_2_de\n",
      "human_adpkd_dataset_logFC_MASTde_3xADPKD_vSMC.Fib_de\n"
     ]
    }
   ],
   "source": [
    "filenames = pd.read_table(resulthome + \"tmp.txt\", header=None)\n",
    "\n",
    "myfiles = filenames[0].values.tolist()\n",
    "\n",
    "frames = []\n",
    "\n",
    "for filename in myfiles:\n",
    "    file_id = filename.split(\"/\")[-1].split(\".rnk\")[0]\n",
    "    if file_id == \"human_adpkd_dataset_logFC_MASTde_3xADPKD_Unk_1_de\": continue\n",
    "    print(file_id)\n",
    "\n",
    "    tmp_df = pd.read_table(filename, sep=\"\\t\")\n",
    "    \n",
    "    tmp_df[\"file_id\"] = file_id\n",
    "    frames.append(tmp_df)"
   ]
  },
  {
   "cell_type": "code",
   "execution_count": 34,
   "id": "1003c4f1",
   "metadata": {},
   "outputs": [],
   "source": [
    "mydf = pd.concat(frames)"
   ]
  },
  {
   "cell_type": "code",
   "execution_count": 35,
   "id": "469fbfb1",
   "metadata": {},
   "outputs": [
    {
     "data": {
      "text/html": [
       "<div>\n",
       "<style scoped>\n",
       "    .dataframe tbody tr th:only-of-type {\n",
       "        vertical-align: middle;\n",
       "    }\n",
       "\n",
       "    .dataframe tbody tr th {\n",
       "        vertical-align: top;\n",
       "    }\n",
       "\n",
       "    .dataframe thead th {\n",
       "        text-align: right;\n",
       "    }\n",
       "</style>\n",
       "<table border=\"1\" class=\"dataframe\">\n",
       "  <thead>\n",
       "    <tr style=\"text-align: right;\">\n",
       "      <th></th>\n",
       "      <th># gene</th>\n",
       "      <th>logFC</th>\n",
       "      <th>file_id</th>\n",
       "    </tr>\n",
       "  </thead>\n",
       "  <tbody>\n",
       "    <tr>\n",
       "      <th>0</th>\n",
       "      <td>IGKC</td>\n",
       "      <td>2.843295</td>\n",
       "      <td>human_adpkd_dataset_logFC_MASTde_3xADPKD_B-Cel...</td>\n",
       "    </tr>\n",
       "    <tr>\n",
       "      <th>1</th>\n",
       "      <td>MT1X</td>\n",
       "      <td>2.833102</td>\n",
       "      <td>human_adpkd_dataset_logFC_MASTde_3xADPKD_B-Cel...</td>\n",
       "    </tr>\n",
       "  </tbody>\n",
       "</table>\n",
       "</div>"
      ],
      "text/plain": [
       "  # gene     logFC                                            file_id\n",
       "0   IGKC  2.843295  human_adpkd_dataset_logFC_MASTde_3xADPKD_B-Cel...\n",
       "1   MT1X  2.833102  human_adpkd_dataset_logFC_MASTde_3xADPKD_B-Cel..."
      ]
     },
     "execution_count": 35,
     "metadata": {},
     "output_type": "execute_result"
    }
   ],
   "source": [
    "mydf.head(2)"
   ]
  },
  {
   "cell_type": "code",
   "execution_count": 36,
   "id": "21fb0984",
   "metadata": {},
   "outputs": [
    {
     "name": "stdout",
     "output_type": "stream",
     "text": [
      "[1] \"c2.cp.kegg.v7.4.\"\n",
      "[1] \"/Users/noamibrahimhayat/Documents/Aachen/projects/kidney_organoids/results/human_adpkd_dataset_logFC_MASTde_3xADPKD_B-Cell_de_c2.cp.kegg.v7.4.gsea\"\n"
     ]
    },
    {
     "name": "stderr",
     "output_type": "stream",
     "text": [
      "2022-04-13 14:35:54,451 [41334] WARNING  rpy2.rinterface_lib.callbacks:123: [JupyterRequire] R[write to console]: data.table 1.14.2 using 1 threads (see ?getDTthreads).  Latest news: r-datatable.com\n",
      "\n",
      "2022-04-13 14:35:54,454 [41334] WARNING  rpy2.rinterface_lib.callbacks:123: [JupyterRequire] R[write to console]: **********\n",
      "This installation of data.table has not detected OpenMP support. It should still work but in single-threaded mode.\n",
      "This is a Mac. Please read https://mac.r-project.org/openmp/. Please engage with Apple and ask them for support. Check r-datatable.com for updates, and our Mac instructions here: https://github.com/Rdatatable/data.table/wiki/Installation. After several years of many reports of installation problems on Mac, it's time to gingerly point out that there have been no similar problems on Windows or Linux.\n",
      "**********\n",
      "\n",
      "2022-04-13 14:35:54,459 [41334] WARNING  rpy2.rinterface_lib.callbacks:123: [JupyterRequire] R[write to console]: \n",
      "Attaching package: ‘data.table’\n",
      "\n",
      "\n",
      "2022-04-13 14:35:54,461 [41334] WARNING  rpy2.rinterface_lib.callbacks:123: [JupyterRequire] R[write to console]: The following objects are masked from ‘package:dplyr’:\n",
      "\n",
      "    between, first, last\n",
      "\n",
      "\n",
      "2022-04-13 14:35:54,462 [41334] WARNING  rpy2.rinterface_lib.callbacks:123: [JupyterRequire] R[write to console]: The following object is masked from ‘package:purrr’:\n",
      "\n",
      "    transpose\n",
      "\n",
      "\n"
     ]
    },
    {
     "name": "stdout",
     "output_type": "stream",
     "text": [
      "[1] \"c2.cp.kegg.v7.4.\"\n",
      "[1] \"/Users/noamibrahimhayat/Documents/Aachen/projects/kidney_organoids/results/human_adpkd_dataset_logFC_MASTde_3xADPKD_DCT_1_de_c2.cp.kegg.v7.4.gsea\"\n",
      "[1] \"c2.cp.kegg.v7.4.\"\n",
      "[1] \"/Users/noamibrahimhayat/Documents/Aachen/projects/kidney_organoids/results/human_adpkd_dataset_logFC_MASTde_3xADPKD_DCT_2_de_c2.cp.kegg.v7.4.gsea\"\n",
      "[1] \"c2.cp.kegg.v7.4.\"\n",
      "[1] \"/Users/noamibrahimhayat/Documents/Aachen/projects/kidney_organoids/results/human_adpkd_dataset_logFC_MASTde_3xADPKD_EC_de_c2.cp.kegg.v7.4.gsea\"\n",
      "[1] \"c2.cp.kegg.v7.4.\"\n",
      "[1] \"/Users/noamibrahimhayat/Documents/Aachen/projects/kidney_organoids/results/human_adpkd_dataset_logFC_MASTde_3xADPKD_IC-A_de_c2.cp.kegg.v7.4.gsea\"\n",
      "[1] \"c2.cp.kegg.v7.4.\"\n",
      "[1] \"/Users/noamibrahimhayat/Documents/Aachen/projects/kidney_organoids/results/human_adpkd_dataset_logFC_MASTde_3xADPKD_IC-B_de_c2.cp.kegg.v7.4.gsea\"\n",
      "[1] \"c2.cp.kegg.v7.4.\"\n",
      "[1] \"/Users/noamibrahimhayat/Documents/Aachen/projects/kidney_organoids/results/human_adpkd_dataset_logFC_MASTde_3xADPKD_Mac_de_c2.cp.kegg.v7.4.gsea\"\n",
      "[1] \"c2.cp.kegg.v7.4.\"\n",
      "[1] \"/Users/noamibrahimhayat/Documents/Aachen/projects/kidney_organoids/results/human_adpkd_dataset_logFC_MASTde_3xADPKD_Mast-Cell_de_c2.cp.kegg.v7.4.gsea\"\n",
      "[1] \"c2.cp.kegg.v7.4.\"\n",
      "[1] \"/Users/noamibrahimhayat/Documents/Aachen/projects/kidney_organoids/results/human_adpkd_dataset_logFC_MASTde_3xADPKD_PC-CD.CNT_de_c2.cp.kegg.v7.4.gsea\"\n",
      "[1] \"c2.cp.kegg.v7.4.\"\n",
      "[1] \"/Users/noamibrahimhayat/Documents/Aachen/projects/kidney_organoids/results/human_adpkd_dataset_logFC_MASTde_3xADPKD_PT_1_de_c2.cp.kegg.v7.4.gsea\"\n",
      "[1] \"c2.cp.kegg.v7.4.\"\n",
      "[1] \"/Users/noamibrahimhayat/Documents/Aachen/projects/kidney_organoids/results/human_adpkd_dataset_logFC_MASTde_3xADPKD_PT_2_de_c2.cp.kegg.v7.4.gsea\"\n",
      "[1] \"c2.cp.kegg.v7.4.\"\n",
      "[1] \"/Users/noamibrahimhayat/Documents/Aachen/projects/kidney_organoids/results/human_adpkd_dataset_logFC_MASTde_3xADPKD_PT_3.PEC_de_c2.cp.kegg.v7.4.gsea\"\n",
      "[1] \"c2.cp.kegg.v7.4.\"\n",
      "[1] \"/Users/noamibrahimhayat/Documents/Aachen/projects/kidney_organoids/results/human_adpkd_dataset_logFC_MASTde_3xADPKD_PT_4_de_c2.cp.kegg.v7.4.gsea\"\n",
      "[1] \"c2.cp.kegg.v7.4.\"\n",
      "[1] \"/Users/noamibrahimhayat/Documents/Aachen/projects/kidney_organoids/results/human_adpkd_dataset_logFC_MASTde_3xADPKD_Pod_de_c2.cp.kegg.v7.4.gsea\"\n",
      "[1] \"c2.cp.kegg.v7.4.\"\n",
      "[1] \"/Users/noamibrahimhayat/Documents/Aachen/projects/kidney_organoids/results/human_adpkd_dataset_logFC_MASTde_3xADPKD_T-Cell_de_c2.cp.kegg.v7.4.gsea\"\n",
      "[1] \"c2.cp.kegg.v7.4.\"\n",
      "[1] \"/Users/noamibrahimhayat/Documents/Aachen/projects/kidney_organoids/results/human_adpkd_dataset_logFC_MASTde_3xADPKD_TAL_1_de_c2.cp.kegg.v7.4.gsea\"\n",
      "[1] \"c2.cp.kegg.v7.4.\"\n",
      "[1] \"/Users/noamibrahimhayat/Documents/Aachen/projects/kidney_organoids/results/human_adpkd_dataset_logFC_MASTde_3xADPKD_TAL_2_de_c2.cp.kegg.v7.4.gsea\"\n",
      "[1] \"c2.cp.kegg.v7.4.\"\n",
      "[1] \"/Users/noamibrahimhayat/Documents/Aachen/projects/kidney_organoids/results/human_adpkd_dataset_logFC_MASTde_3xADPKD_vSMC.Fib_de_c2.cp.kegg.v7.4.gsea\"\n"
     ]
    }
   ],
   "source": [
    "%%R -i myfiles\n",
    "\n",
    "for (rnk.file in myfiles){\n",
    "    #print(rnk.file)\n",
    "    \n",
    "    gmt.file <- \"/Users/noamibrahimhayat/Documents/Aachen/projects/gsea/c2.cp.kegg.v7.4.symbols.gmt\"\n",
    "    \n",
    "    z <- strsplit(gmt.file, \"/\")[[1]][8]\n",
    "    out_suffix <- strsplit(z, \"symbols.gmt\")[[1]]\n",
    "    print(out_suffix)\n",
    "    \n",
    "    out.file  <- paste0(strsplit(rnk.file, \".rnk\"), \"_\", out_suffix, \"gsea\")\n",
    "    print(out.file)\n",
    "    \n",
    "    # load ranks\n",
    "    ranks <- read.table(rnk.file, header=FALSE, colClasses = c(\"character\", \"numeric\"))\n",
    "    ranks <- deframe(ranks)  # needs tidyverse\n",
    "    #print(head(ranks, 20))\n",
    "\n",
    "    ## pathways\n",
    "    pathways <- gmtPathways(gmt.file)\n",
    "    #print(head(pathways))\n",
    "\n",
    "    # run fGSEA\n",
    "    fgseaRes <- fgsea(pathways, ranks, minSize=15, maxSize=500, nperm=10000)\n",
    "\n",
    "    fgseaResTidy <- fgseaRes %>%\n",
    "      as_tibble() %>%\n",
    "      arrange(desc(NES))\n",
    "    \n",
    "    ## Save\n",
    "    library(\"data.table\")\n",
    "    fwrite(fgseaResTidy, file =out.file)\n",
    "    }"
   ]
  },
  {
   "cell_type": "code",
   "execution_count": 37,
   "id": "89fd113a",
   "metadata": {},
   "outputs": [
    {
     "data": {
      "text/plain": [
       "0"
      ]
     },
     "execution_count": 37,
     "metadata": {},
     "output_type": "execute_result"
    }
   ],
   "source": [
    "os.system(\"ls \" + resulthome + \"human_adpkd_dataset_logFC_*gsea > \"+resulthome + \"tmp.txt\")"
   ]
  },
  {
   "cell_type": "code",
   "execution_count": 39,
   "id": "4b3204ba",
   "metadata": {},
   "outputs": [
    {
     "name": "stdout",
     "output_type": "stream",
     "text": [
      "human_adpkd_dataset_logFC_MASTde_3xADPKD_B-Cell_de_c2.cp.kegg.v7.4.gsea 14\n",
      "human_adpkd_dataset_logFC_MASTde_3xADPKD_DCT_1_de_c2.cp.kegg.v7.4.gsea 11\n",
      "human_adpkd_dataset_logFC_MASTde_3xADPKD_DCT_2_de_c2.cp.kegg.v7.4.gsea 12\n",
      "human_adpkd_dataset_logFC_MASTde_3xADPKD_EC_de_c2.cp.kegg.v7.4.gsea 12\n",
      "human_adpkd_dataset_logFC_MASTde_3xADPKD_IC-A_de_c2.cp.kegg.v7.4.gsea 0\n",
      "human_adpkd_dataset_logFC_MASTde_3xADPKD_IC-B_de_c2.cp.kegg.v7.4.gsea 1\n",
      "human_adpkd_dataset_logFC_MASTde_3xADPKD_Mac_de_c2.cp.kegg.v7.4.gsea 0\n",
      "human_adpkd_dataset_logFC_MASTde_3xADPKD_Mast-Cell_de_c2.cp.kegg.v7.4.gsea 10\n",
      "human_adpkd_dataset_logFC_MASTde_3xADPKD_PC-CD.CNT_de_c2.cp.kegg.v7.4.gsea 9\n",
      "human_adpkd_dataset_logFC_MASTde_3xADPKD_PT_1_de_c2.cp.kegg.v7.4.gsea 10\n",
      "human_adpkd_dataset_logFC_MASTde_3xADPKD_PT_2_de_c2.cp.kegg.v7.4.gsea 22\n",
      "human_adpkd_dataset_logFC_MASTde_3xADPKD_PT_3.PEC_de_c2.cp.kegg.v7.4.gsea 16\n",
      "human_adpkd_dataset_logFC_MASTde_3xADPKD_PT_4_de_c2.cp.kegg.v7.4.gsea 41\n",
      "human_adpkd_dataset_logFC_MASTde_3xADPKD_Pod_de_c2.cp.kegg.v7.4.gsea 0\n",
      "human_adpkd_dataset_logFC_MASTde_3xADPKD_T-Cell_de_c2.cp.kegg.v7.4.gsea 11\n",
      "human_adpkd_dataset_logFC_MASTde_3xADPKD_TAL_1_de_c2.cp.kegg.v7.4.gsea 19\n",
      "human_adpkd_dataset_logFC_MASTde_3xADPKD_TAL_2_de_c2.cp.kegg.v7.4.gsea 10\n",
      "human_adpkd_dataset_logFC_MASTde_3xADPKD_vSMC.Fib_de_c2.cp.kegg.v7.4.gsea 18\n"
     ]
    }
   ],
   "source": [
    "filenames = pd.read_table(resulthome + \"tmp.txt\", header=None)\n",
    "myfiles   = filenames[0].values.tolist()\n",
    "\n",
    "padj_cutoff = 0.05\n",
    "\n",
    "frames = []\n",
    "\n",
    "for filename in myfiles:\n",
    "    file_id      = filename.split(\"/\")[-1].split(\".rnk\")[0]\n",
    "    cluster_name = file_id.split(\"logFC_\")[1].split(\"_de\")[0]\n",
    "    \n",
    "    sig_file = filename.split(\".gsea\")[0]+\"_significant.gsea\"\n",
    "    \n",
    "    gsea = pd.read_csv(filename)\n",
    "    \n",
    "    gsea[\"cluster_name\"] = cluster_name\n",
    "    gsea.sort_values(by='NES', ascending=False)\n",
    "    \n",
    "    gsea[(gsea['padj'] < padj_cutoff)].sort_values(by='NES', ascending=False).to_csv(sig_file)\n",
    "    \n",
    "    print(file_id, gsea[(gsea['padj'] < padj_cutoff)].shape[0])\n",
    "\n",
    "    frames.append(gsea[(gsea['padj'] < padj_cutoff)])#.sort_values(by='NES', ascending=False).head(10))"
   ]
  },
  {
   "cell_type": "code",
   "execution_count": 40,
   "id": "a6a92dbd",
   "metadata": {},
   "outputs": [],
   "source": [
    "select_gsea_df = pd.concat(frames)"
   ]
  },
  {
   "cell_type": "code",
   "execution_count": 41,
   "id": "1375994b",
   "metadata": {},
   "outputs": [
    {
     "data": {
      "text/html": [
       "<div>\n",
       "<style scoped>\n",
       "    .dataframe tbody tr th:only-of-type {\n",
       "        vertical-align: middle;\n",
       "    }\n",
       "\n",
       "    .dataframe tbody tr th {\n",
       "        vertical-align: top;\n",
       "    }\n",
       "\n",
       "    .dataframe thead th {\n",
       "        text-align: right;\n",
       "    }\n",
       "</style>\n",
       "<table border=\"1\" class=\"dataframe\">\n",
       "  <thead>\n",
       "    <tr style=\"text-align: right;\">\n",
       "      <th></th>\n",
       "      <th>pathway</th>\n",
       "      <th>pval</th>\n",
       "      <th>padj</th>\n",
       "      <th>ES</th>\n",
       "      <th>NES</th>\n",
       "      <th>nMoreExtreme</th>\n",
       "      <th>size</th>\n",
       "      <th>leadingEdge</th>\n",
       "      <th>cluster_name</th>\n",
       "    </tr>\n",
       "  </thead>\n",
       "  <tbody>\n",
       "    <tr>\n",
       "      <th>0</th>\n",
       "      <td>KEGG_RIBOSOME</td>\n",
       "      <td>0.000234</td>\n",
       "      <td>0.010110</td>\n",
       "      <td>0.684862</td>\n",
       "      <td>2.215477</td>\n",
       "      <td>0</td>\n",
       "      <td>81</td>\n",
       "      <td>RPS27A|RPL13|RPL28|RPS8|RPL21|RPS4X|RPL8|RPS6|...</td>\n",
       "      <td>MASTde_3xADPKD_B-Cell</td>\n",
       "    </tr>\n",
       "    <tr>\n",
       "      <th>1</th>\n",
       "      <td>KEGG_B_CELL_RECEPTOR_SIGNALING_PATHWAY</td>\n",
       "      <td>0.000228</td>\n",
       "      <td>0.010110</td>\n",
       "      <td>0.585572</td>\n",
       "      <td>1.850907</td>\n",
       "      <td>0</td>\n",
       "      <td>69</td>\n",
       "      <td>NFKB1|NFATC1|VAV1|NFKBIA|LYN|PRKCB|NFATC2|MALT...</td>\n",
       "      <td>MASTde_3xADPKD_B-Cell</td>\n",
       "    </tr>\n",
       "    <tr>\n",
       "      <th>2</th>\n",
       "      <td>KEGG_PROTEIN_EXPORT</td>\n",
       "      <td>0.000860</td>\n",
       "      <td>0.017742</td>\n",
       "      <td>0.722989</td>\n",
       "      <td>1.834210</td>\n",
       "      <td>3</td>\n",
       "      <td>23</td>\n",
       "      <td>SRP54|SEC63|SEC62|SEC61A1|IMMP1L|SRP9|IMMP2L|S...</td>\n",
       "      <td>MASTde_3xADPKD_B-Cell</td>\n",
       "    </tr>\n",
       "    <tr>\n",
       "      <th>3</th>\n",
       "      <td>KEGG_T_CELL_RECEPTOR_SIGNALING_PATHWAY</td>\n",
       "      <td>0.000711</td>\n",
       "      <td>0.016749</td>\n",
       "      <td>0.541754</td>\n",
       "      <td>1.796714</td>\n",
       "      <td>2</td>\n",
       "      <td>94</td>\n",
       "      <td>NFKB1|NFATC1|PTPRC|VAV1|NFKBIA|MAP3K8|NFATC2|M...</td>\n",
       "      <td>MASTde_3xADPKD_B-Cell</td>\n",
       "    </tr>\n",
       "    <tr>\n",
       "      <th>4</th>\n",
       "      <td>KEGG_PROSTATE_CANCER</td>\n",
       "      <td>0.000703</td>\n",
       "      <td>0.016749</td>\n",
       "      <td>0.546946</td>\n",
       "      <td>1.769327</td>\n",
       "      <td>2</td>\n",
       "      <td>81</td>\n",
       "      <td>NFKB1|HSP90AB1|BCL2|NFKBIA|CREB3L2|CREB1|KRAS|...</td>\n",
       "      <td>MASTde_3xADPKD_B-Cell</td>\n",
       "    </tr>\n",
       "  </tbody>\n",
       "</table>\n",
       "</div>"
      ],
      "text/plain": [
       "                                  pathway      pval      padj        ES  \\\n",
       "0                           KEGG_RIBOSOME  0.000234  0.010110  0.684862   \n",
       "1  KEGG_B_CELL_RECEPTOR_SIGNALING_PATHWAY  0.000228  0.010110  0.585572   \n",
       "2                     KEGG_PROTEIN_EXPORT  0.000860  0.017742  0.722989   \n",
       "3  KEGG_T_CELL_RECEPTOR_SIGNALING_PATHWAY  0.000711  0.016749  0.541754   \n",
       "4                    KEGG_PROSTATE_CANCER  0.000703  0.016749  0.546946   \n",
       "\n",
       "        NES  nMoreExtreme  size  \\\n",
       "0  2.215477             0    81   \n",
       "1  1.850907             0    69   \n",
       "2  1.834210             3    23   \n",
       "3  1.796714             2    94   \n",
       "4  1.769327             2    81   \n",
       "\n",
       "                                         leadingEdge           cluster_name  \n",
       "0  RPS27A|RPL13|RPL28|RPS8|RPL21|RPS4X|RPL8|RPS6|...  MASTde_3xADPKD_B-Cell  \n",
       "1  NFKB1|NFATC1|VAV1|NFKBIA|LYN|PRKCB|NFATC2|MALT...  MASTde_3xADPKD_B-Cell  \n",
       "2  SRP54|SEC63|SEC62|SEC61A1|IMMP1L|SRP9|IMMP2L|S...  MASTde_3xADPKD_B-Cell  \n",
       "3  NFKB1|NFATC1|PTPRC|VAV1|NFKBIA|MAP3K8|NFATC2|M...  MASTde_3xADPKD_B-Cell  \n",
       "4  NFKB1|HSP90AB1|BCL2|NFKBIA|CREB3L2|CREB1|KRAS|...  MASTde_3xADPKD_B-Cell  "
      ]
     },
     "execution_count": 41,
     "metadata": {},
     "output_type": "execute_result"
    }
   ],
   "source": [
    "select_gsea_df.head()"
   ]
  },
  {
   "cell_type": "code",
   "execution_count": 42,
   "id": "09664e72",
   "metadata": {},
   "outputs": [],
   "source": [
    "mygrp = select_gsea_df.groupby(\"cluster_name\")"
   ]
  },
  {
   "cell_type": "code",
   "execution_count": 43,
   "id": "e284b8f3",
   "metadata": {},
   "outputs": [
    {
     "name": "stdout",
     "output_type": "stream",
     "text": [
      "MASTde_3xADPKD_B-Cell 14 11\n",
      "MASTde_3xADPKD_DCT_1 11 7\n",
      "MASTde_3xADPKD_DCT_2 12 7\n",
      "MASTde_3xADPKD_EC 12 8\n",
      "MASTde_3xADPKD_IC-B 1 0\n",
      "MASTde_3xADPKD_Mast-Cell 10 10\n",
      "MASTde_3xADPKD_PC-CD.CNT 9 9\n",
      "MASTde_3xADPKD_PT_1 10 5\n",
      "MASTde_3xADPKD_PT_2 22 16\n",
      "MASTde_3xADPKD_PT_3.PEC 16 16\n",
      "MASTde_3xADPKD_PT_4 41 25\n",
      "MASTde_3xADPKD_T-Cell 11 10\n",
      "MASTde_3xADPKD_TAL_1 19 11\n",
      "MASTde_3xADPKD_TAL_2 10 7\n",
      "MASTde_3xADPKD_vSMC.Fib 18 11\n"
     ]
    }
   ],
   "source": [
    "results_frame = []\n",
    "for name, myg in mygrp:\n",
    "    print(name, myg.shape[0], myg[myg[\"NES\"]>0].shape[0])\n",
    "    #results_frame.append(myg[myg[\"NES\"]>0])\n",
    "    results_frame.append(myg)"
   ]
  },
  {
   "cell_type": "code",
   "execution_count": 45,
   "id": "cb0ca9c0",
   "metadata": {},
   "outputs": [],
   "source": [
    "results_df = pd.concat(results_frame)[[\"cluster_name\", \"pathway\", \"NES\", \"leadingEdge\", \"pval\", \"padj\"]]#.head(35)"
   ]
  },
  {
   "cell_type": "code",
   "execution_count": 268,
   "id": "667cae6b",
   "metadata": {},
   "outputs": [],
   "source": [
    "results_df.to_csv(resulthome+\"kegg_all_celltypes_human_pathways.txt\")"
   ]
  },
  {
   "cell_type": "markdown",
   "id": "0f41f51b",
   "metadata": {},
   "source": [
    "## READ again"
   ]
  },
  {
   "cell_type": "code",
   "execution_count": 204,
   "id": "ffcfb581",
   "metadata": {},
   "outputs": [],
   "source": [
    "results_df = pd.read_table(resulthome+\"kegg_all_celltypes_human_pathways.txt\", sep=\",\")"
   ]
  },
  {
   "cell_type": "code",
   "execution_count": 46,
   "id": "8311dbe1",
   "metadata": {},
   "outputs": [
    {
     "data": {
      "text/plain": [
       "(216, 6)"
      ]
     },
     "execution_count": 46,
     "metadata": {},
     "output_type": "execute_result"
    }
   ],
   "source": [
    "results_df.shape\n",
    "#results_df.drop([\"Unnamed: 0\"], axis=1, inplace=True)"
   ]
  },
  {
   "cell_type": "code",
   "execution_count": 47,
   "id": "95b1e28c",
   "metadata": {},
   "outputs": [
    {
     "data": {
      "text/html": [
       "<div>\n",
       "<style scoped>\n",
       "    .dataframe tbody tr th:only-of-type {\n",
       "        vertical-align: middle;\n",
       "    }\n",
       "\n",
       "    .dataframe tbody tr th {\n",
       "        vertical-align: top;\n",
       "    }\n",
       "\n",
       "    .dataframe thead th {\n",
       "        text-align: right;\n",
       "    }\n",
       "</style>\n",
       "<table border=\"1\" class=\"dataframe\">\n",
       "  <thead>\n",
       "    <tr style=\"text-align: right;\">\n",
       "      <th></th>\n",
       "      <th>cluster_name</th>\n",
       "      <th>pathway</th>\n",
       "      <th>NES</th>\n",
       "      <th>leadingEdge</th>\n",
       "      <th>pval</th>\n",
       "      <th>padj</th>\n",
       "    </tr>\n",
       "  </thead>\n",
       "  <tbody>\n",
       "    <tr>\n",
       "      <th>0</th>\n",
       "      <td>MASTde_3xADPKD_B-Cell</td>\n",
       "      <td>KEGG_RIBOSOME</td>\n",
       "      <td>2.215477</td>\n",
       "      <td>RPS27A|RPL13|RPL28|RPS8|RPL21|RPS4X|RPL8|RPS6|...</td>\n",
       "      <td>0.000234</td>\n",
       "      <td>0.010110</td>\n",
       "    </tr>\n",
       "    <tr>\n",
       "      <th>1</th>\n",
       "      <td>MASTde_3xADPKD_B-Cell</td>\n",
       "      <td>KEGG_B_CELL_RECEPTOR_SIGNALING_PATHWAY</td>\n",
       "      <td>1.850907</td>\n",
       "      <td>NFKB1|NFATC1|VAV1|NFKBIA|LYN|PRKCB|NFATC2|MALT...</td>\n",
       "      <td>0.000228</td>\n",
       "      <td>0.010110</td>\n",
       "    </tr>\n",
       "    <tr>\n",
       "      <th>2</th>\n",
       "      <td>MASTde_3xADPKD_B-Cell</td>\n",
       "      <td>KEGG_PROTEIN_EXPORT</td>\n",
       "      <td>1.834210</td>\n",
       "      <td>SRP54|SEC63|SEC62|SEC61A1|IMMP1L|SRP9|IMMP2L|S...</td>\n",
       "      <td>0.000860</td>\n",
       "      <td>0.017742</td>\n",
       "    </tr>\n",
       "    <tr>\n",
       "      <th>3</th>\n",
       "      <td>MASTde_3xADPKD_B-Cell</td>\n",
       "      <td>KEGG_T_CELL_RECEPTOR_SIGNALING_PATHWAY</td>\n",
       "      <td>1.796714</td>\n",
       "      <td>NFKB1|NFATC1|PTPRC|VAV1|NFKBIA|MAP3K8|NFATC2|M...</td>\n",
       "      <td>0.000711</td>\n",
       "      <td>0.016749</td>\n",
       "    </tr>\n",
       "    <tr>\n",
       "      <th>4</th>\n",
       "      <td>MASTde_3xADPKD_B-Cell</td>\n",
       "      <td>KEGG_PROSTATE_CANCER</td>\n",
       "      <td>1.769327</td>\n",
       "      <td>NFKB1|HSP90AB1|BCL2|NFKBIA|CREB3L2|CREB1|KRAS|...</td>\n",
       "      <td>0.000703</td>\n",
       "      <td>0.016749</td>\n",
       "    </tr>\n",
       "  </tbody>\n",
       "</table>\n",
       "</div>"
      ],
      "text/plain": [
       "            cluster_name                                 pathway       NES  \\\n",
       "0  MASTde_3xADPKD_B-Cell                           KEGG_RIBOSOME  2.215477   \n",
       "1  MASTde_3xADPKD_B-Cell  KEGG_B_CELL_RECEPTOR_SIGNALING_PATHWAY  1.850907   \n",
       "2  MASTde_3xADPKD_B-Cell                     KEGG_PROTEIN_EXPORT  1.834210   \n",
       "3  MASTde_3xADPKD_B-Cell  KEGG_T_CELL_RECEPTOR_SIGNALING_PATHWAY  1.796714   \n",
       "4  MASTde_3xADPKD_B-Cell                    KEGG_PROSTATE_CANCER  1.769327   \n",
       "\n",
       "                                         leadingEdge      pval      padj  \n",
       "0  RPS27A|RPL13|RPL28|RPS8|RPL21|RPS4X|RPL8|RPS6|...  0.000234  0.010110  \n",
       "1  NFKB1|NFATC1|VAV1|NFKBIA|LYN|PRKCB|NFATC2|MALT...  0.000228  0.010110  \n",
       "2  SRP54|SEC63|SEC62|SEC61A1|IMMP1L|SRP9|IMMP2L|S...  0.000860  0.017742  \n",
       "3  NFKB1|NFATC1|PTPRC|VAV1|NFKBIA|MAP3K8|NFATC2|M...  0.000711  0.016749  \n",
       "4  NFKB1|HSP90AB1|BCL2|NFKBIA|CREB3L2|CREB1|KRAS|...  0.000703  0.016749  "
      ]
     },
     "execution_count": 47,
     "metadata": {},
     "output_type": "execute_result"
    }
   ],
   "source": [
    "results_df.head()"
   ]
  },
  {
   "cell_type": "code",
   "execution_count": 48,
   "id": "99c4790a",
   "metadata": {},
   "outputs": [],
   "source": [
    "plot_df = results_df[[\"cluster_name\", \"pathway\", \"NES\"]]\\\n",
    "    .pivot(index='cluster_name', columns='pathway', values='NES').fillna(0)"
   ]
  },
  {
   "cell_type": "code",
   "execution_count": 49,
   "id": "77222040",
   "metadata": {},
   "outputs": [
    {
     "data": {
      "text/html": [
       "<div>\n",
       "<style scoped>\n",
       "    .dataframe tbody tr th:only-of-type {\n",
       "        vertical-align: middle;\n",
       "    }\n",
       "\n",
       "    .dataframe tbody tr th {\n",
       "        vertical-align: top;\n",
       "    }\n",
       "\n",
       "    .dataframe thead th {\n",
       "        text-align: right;\n",
       "    }\n",
       "</style>\n",
       "<table border=\"1\" class=\"dataframe\">\n",
       "  <thead>\n",
       "    <tr style=\"text-align: right;\">\n",
       "      <th></th>\n",
       "      <th>cluster_name</th>\n",
       "      <th>pathway</th>\n",
       "      <th>NES</th>\n",
       "      <th>leadingEdge</th>\n",
       "      <th>pval</th>\n",
       "      <th>padj</th>\n",
       "    </tr>\n",
       "  </thead>\n",
       "  <tbody>\n",
       "    <tr>\n",
       "      <th>0</th>\n",
       "      <td>MASTde_3xADPKD_B-Cell</td>\n",
       "      <td>KEGG_RIBOSOME</td>\n",
       "      <td>2.215477</td>\n",
       "      <td>RPS27A|RPL13|RPL28|RPS8|RPL21|RPS4X|RPL8|RPS6|...</td>\n",
       "      <td>0.000234</td>\n",
       "      <td>0.01011</td>\n",
       "    </tr>\n",
       "    <tr>\n",
       "      <th>1</th>\n",
       "      <td>MASTde_3xADPKD_B-Cell</td>\n",
       "      <td>KEGG_B_CELL_RECEPTOR_SIGNALING_PATHWAY</td>\n",
       "      <td>1.850907</td>\n",
       "      <td>NFKB1|NFATC1|VAV1|NFKBIA|LYN|PRKCB|NFATC2|MALT...</td>\n",
       "      <td>0.000228</td>\n",
       "      <td>0.01011</td>\n",
       "    </tr>\n",
       "  </tbody>\n",
       "</table>\n",
       "</div>"
      ],
      "text/plain": [
       "            cluster_name                                 pathway       NES  \\\n",
       "0  MASTde_3xADPKD_B-Cell                           KEGG_RIBOSOME  2.215477   \n",
       "1  MASTde_3xADPKD_B-Cell  KEGG_B_CELL_RECEPTOR_SIGNALING_PATHWAY  1.850907   \n",
       "\n",
       "                                         leadingEdge      pval     padj  \n",
       "0  RPS27A|RPL13|RPL28|RPS8|RPL21|RPS4X|RPL8|RPS6|...  0.000234  0.01011  \n",
       "1  NFKB1|NFATC1|VAV1|NFKBIA|LYN|PRKCB|NFATC2|MALT...  0.000228  0.01011  "
      ]
     },
     "execution_count": 49,
     "metadata": {},
     "output_type": "execute_result"
    }
   ],
   "source": [
    "results_df.head(2)"
   ]
  },
  {
   "cell_type": "code",
   "execution_count": 50,
   "id": "bee03f85",
   "metadata": {},
   "outputs": [
    {
     "data": {
      "text/plain": [
       "(15, 70)"
      ]
     },
     "execution_count": 50,
     "metadata": {},
     "output_type": "execute_result"
    }
   ],
   "source": [
    "plot_df.shape"
   ]
  },
  {
   "cell_type": "code",
   "execution_count": 51,
   "id": "1c1bfe87",
   "metadata": {
    "scrolled": false
   },
   "outputs": [
    {
     "data": {
      "image/png": "[encoded data removed]",
      "text/plain": [
       "<Figure size 864x1152 with 2 Axes>"
      ]
     },
     "metadata": {
      "needs_background": "light"
     },
     "output_type": "display_data"
    }
   ],
   "source": [
    "## Plot scores\n",
    "\n",
    "mat = plot_df.to_numpy()\n",
    "\n",
    "plt.figure(figsize=(12, 16))\n",
    "\n",
    "dp = plt.imshow(np.transpose(mat),cmap=plt.cm.get_cmap('viridis'), \\\n",
    "          alpha=0.94,interpolation='antialiased', aspect='auto')#,\n",
    "\n",
    "plt.yticks(ticks=range(mat.shape[1]), labels=[s[0:] for s in plot_df.columns], rotation=0,fontsize=10)\n",
    "plt.xticks(ticks=range(mat.shape[0]), labels=[s[0:] for s in plot_df.index], rotation=90, fontsize=10)\n",
    "plt.xlabel('Annotation.Level.2')\n",
    "\n",
    "plt.grid(None)   #<---- this should remove that white grid\n",
    "#plt.grid(color='w', linewidth=2)\n",
    "#plt.grid(which='minor', color='w', linestyle='-', linewidth=12)\n",
    "\n",
    "plt.colorbar()\n",
    "plt.title('fgsea analyses')\n",
    "plt.tight_layout()\n",
    "plt.savefig(resulthome+ \"adpkd_org_human_kegg_fgsea_selected.pdf\")"
   ]
  }
 ],
 "metadata": {
  "finalized": {
   "timestamp": 1649853909373,
   "trusted": false
  },
  "kernelspec": {
   "display_name": "Python 3",
   "language": "python",
   "name": "python3"
  },
  "language_info": {
   "codemirror_mode": {
    "name": "ipython",
    "version": 3
   },
   "file_extension": ".py",
   "mimetype": "text/x-python",
   "name": "python",
   "nbconvert_exporter": "python",
   "pygments_lexer": "ipython3",
   "version": "3.9.6"
  }
 },
 "nbformat": 4,
 "nbformat_minor": 5
}
